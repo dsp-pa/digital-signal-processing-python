{
 "cells": [
  {
   "cell_type": "markdown",
   "metadata": {},
   "source": [
    "# Tarea 2\n",
    "## Resuelva los siguientes problemas (Transformada de Fourier)\n",
    "Obtenga la representación del expectro, es decir, $X(f)$.\n",
    "\n",
    "\n",
    "* $f(t) = 1$, en el rango $-\\pi < t < \\pi$, cero en cualquier otro punto\n",
    "\n",
    "\n",
    "* $f(t) = |t|$, en el rango $-\\pi < t < \\pi$, cero en cualquier otro punto\n",
    "\n",
    "\n",
    "* $f(t) = sinc(t)$, en el rango $-\\pi < t < \\pi$\n",
    "\n",
    "Puede realizar los cálculos manuales o utilizar herramientas de CAS (como Sympy) para realizar sus cálculos."
   ]
  },
  {
   "cell_type": "code",
   "execution_count": null,
   "metadata": {},
   "outputs": [],
   "source": []
  }
 ],
 "metadata": {
  "kernelspec": {
   "display_name": "Python 3",
   "language": "python",
   "name": "python3"
  },
  "language_info": {
   "codemirror_mode": {
    "name": "ipython",
    "version": 3
   },
   "file_extension": ".py",
   "mimetype": "text/x-python",
   "name": "python",
   "nbconvert_exporter": "python",
   "pygments_lexer": "ipython3",
   "version": "3.7.2"
  }
 },
 "nbformat": 4,
 "nbformat_minor": 2
}
